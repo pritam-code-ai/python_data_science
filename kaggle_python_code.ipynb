{
 "cells": [
  {
   "cell_type": "markdown",
   "metadata": {},
   "source": [
    "# <font color='orange'>Import Packages</font>"
   ]
  },
  {
   "cell_type": "code",
   "execution_count": 1,
   "metadata": {},
   "outputs": [],
   "source": [
    "#Import packages\n",
    "import pandas as pd\n",
    "import numpy as np\n",
    "import matplotlib.pyplot as plt\n",
    "import warnings\n",
    "import seaborn as sns\n",
    "from sklearn.ensemble import GradientBoostingClassifier\n",
    "from sklearn.ensemble import RandomForestClassifier\n",
    "from sklearn.model_selection import cross_val_score\n",
    "from sklearn.tree import DecisionTreeClassifier\n",
    "from sklearn.neighbors import KNeighborsClassifier\n",
    "from sklearn.linear_model import LogisticRegression\n",
    "from sklearn.metrics import classification_report, accuracy_score, precision_score, recall_score, confusion_matrix, f1_score, log_loss, jaccard_similarity_score\n",
    "from  sklearn import svm\n",
    "from sklearn import preprocessing\n",
    "from sklearn.model_selection import train_test_split, cross_val_score\n",
    "import matplotlib.font_manager as font_manager\n",
    "from matplotlib import rcParams\n",
    "%matplotlib inline"
   ]
  },
  {
   "cell_type": "markdown",
   "metadata": {},
   "source": [
    "# filter warnings"
   ]
  },
  {
   "cell_type": "code",
   "execution_count": 2,
   "metadata": {},
   "outputs": [],
   "source": [
    "warnings.filterwarnings(\"ignore\")"
   ]
  },
  {
   "cell_type": "markdown",
   "metadata": {},
   "source": [
    "# Read CSV data"
   ]
  },
  {
   "cell_type": "code",
   "execution_count": 3,
   "metadata": {},
   "outputs": [],
   "source": [
    "data = pd.read_csv(\"loan_payments_data.csv\")"
   ]
  },
  {
   "cell_type": "markdown",
   "metadata": {},
   "source": [
    "# first five rows"
   ]
  },
  {
   "cell_type": "code",
   "execution_count": 4,
   "metadata": {},
   "outputs": [
    {
     "data": {
      "text/html": [
       "<div>\n",
       "<style scoped>\n",
       "    .dataframe tbody tr th:only-of-type {\n",
       "        vertical-align: middle;\n",
       "    }\n",
       "\n",
       "    .dataframe tbody tr th {\n",
       "        vertical-align: top;\n",
       "    }\n",
       "\n",
       "    .dataframe thead th {\n",
       "        text-align: right;\n",
       "    }\n",
       "</style>\n",
       "<table border=\"1\" class=\"dataframe\">\n",
       "  <thead>\n",
       "    <tr style=\"text-align: right;\">\n",
       "      <th></th>\n",
       "      <th>Loan_ID</th>\n",
       "      <th>loan_status</th>\n",
       "      <th>Principal</th>\n",
       "      <th>terms</th>\n",
       "      <th>effective_date</th>\n",
       "      <th>due_date</th>\n",
       "      <th>paid_off_time</th>\n",
       "      <th>past_due_days</th>\n",
       "      <th>age</th>\n",
       "      <th>education</th>\n",
       "      <th>Gender</th>\n",
       "    </tr>\n",
       "  </thead>\n",
       "  <tbody>\n",
       "    <tr>\n",
       "      <th>0</th>\n",
       "      <td>xqd20166231</td>\n",
       "      <td>PAIDOFF</td>\n",
       "      <td>1000</td>\n",
       "      <td>30</td>\n",
       "      <td>9/8/2016</td>\n",
       "      <td>10/7/2016</td>\n",
       "      <td>9/14/2016 19:31</td>\n",
       "      <td>NaN</td>\n",
       "      <td>45</td>\n",
       "      <td>High School or Below</td>\n",
       "      <td>male</td>\n",
       "    </tr>\n",
       "    <tr>\n",
       "      <th>1</th>\n",
       "      <td>xqd20168902</td>\n",
       "      <td>PAIDOFF</td>\n",
       "      <td>1000</td>\n",
       "      <td>30</td>\n",
       "      <td>9/8/2016</td>\n",
       "      <td>10/7/2016</td>\n",
       "      <td>10/7/2016 9:00</td>\n",
       "      <td>NaN</td>\n",
       "      <td>50</td>\n",
       "      <td>Bechalor</td>\n",
       "      <td>female</td>\n",
       "    </tr>\n",
       "    <tr>\n",
       "      <th>2</th>\n",
       "      <td>xqd20160003</td>\n",
       "      <td>PAIDOFF</td>\n",
       "      <td>1000</td>\n",
       "      <td>30</td>\n",
       "      <td>9/8/2016</td>\n",
       "      <td>10/7/2016</td>\n",
       "      <td>9/25/2016 16:58</td>\n",
       "      <td>NaN</td>\n",
       "      <td>33</td>\n",
       "      <td>Bechalor</td>\n",
       "      <td>female</td>\n",
       "    </tr>\n",
       "    <tr>\n",
       "      <th>3</th>\n",
       "      <td>xqd20160004</td>\n",
       "      <td>PAIDOFF</td>\n",
       "      <td>1000</td>\n",
       "      <td>15</td>\n",
       "      <td>9/8/2016</td>\n",
       "      <td>9/22/2016</td>\n",
       "      <td>9/22/2016 20:00</td>\n",
       "      <td>NaN</td>\n",
       "      <td>27</td>\n",
       "      <td>college</td>\n",
       "      <td>male</td>\n",
       "    </tr>\n",
       "    <tr>\n",
       "      <th>4</th>\n",
       "      <td>xqd20160005</td>\n",
       "      <td>PAIDOFF</td>\n",
       "      <td>1000</td>\n",
       "      <td>30</td>\n",
       "      <td>9/9/2016</td>\n",
       "      <td>10/8/2016</td>\n",
       "      <td>9/23/2016 21:36</td>\n",
       "      <td>NaN</td>\n",
       "      <td>28</td>\n",
       "      <td>college</td>\n",
       "      <td>female</td>\n",
       "    </tr>\n",
       "  </tbody>\n",
       "</table>\n",
       "</div>"
      ],
      "text/plain": [
       "       Loan_ID loan_status  Principal  terms effective_date   due_date  \\\n",
       "0  xqd20166231     PAIDOFF       1000     30       9/8/2016  10/7/2016   \n",
       "1  xqd20168902     PAIDOFF       1000     30       9/8/2016  10/7/2016   \n",
       "2  xqd20160003     PAIDOFF       1000     30       9/8/2016  10/7/2016   \n",
       "3  xqd20160004     PAIDOFF       1000     15       9/8/2016  9/22/2016   \n",
       "4  xqd20160005     PAIDOFF       1000     30       9/9/2016  10/8/2016   \n",
       "\n",
       "     paid_off_time  past_due_days  age             education  Gender  \n",
       "0  9/14/2016 19:31            NaN   45  High School or Below    male  \n",
       "1   10/7/2016 9:00            NaN   50              Bechalor  female  \n",
       "2  9/25/2016 16:58            NaN   33              Bechalor  female  \n",
       "3  9/22/2016 20:00            NaN   27               college    male  \n",
       "4  9/23/2016 21:36            NaN   28               college  female  "
      ]
     },
     "execution_count": 4,
     "metadata": {},
     "output_type": "execute_result"
    }
   ],
   "source": [
    "data.head()"
   ]
  },
  {
   "cell_type": "markdown",
   "metadata": {},
   "source": [
    "# <font color = \"orange\">Check missing values</font>"
   ]
  },
  {
   "cell_type": "code",
   "execution_count": 5,
   "metadata": {},
   "outputs": [
    {
     "data": {
      "text/plain": [
       "Loan_ID             0\n",
       "loan_status         0\n",
       "Principal           0\n",
       "terms               0\n",
       "effective_date      0\n",
       "due_date            0\n",
       "paid_off_time     100\n",
       "past_due_days     300\n",
       "age                 0\n",
       "education           0\n",
       "Gender              0\n",
       "dtype: int64"
      ]
     },
     "execution_count": 5,
     "metadata": {},
     "output_type": "execute_result"
    }
   ],
   "source": [
    "data.isnull().sum()"
   ]
  },
  {
   "cell_type": "markdown",
   "metadata": {},
   "source": [
    "# percent of missing \"paid_off_time\""
   ]
  },
  {
   "cell_type": "code",
   "execution_count": 6,
   "metadata": {},
   "outputs": [
    {
     "name": "stdout",
     "output_type": "stream",
     "text": [
      "Percent of missing \"paid_off_time\" records is 20.00%\n"
     ]
    }
   ],
   "source": [
    "print('Percent of missing \"paid_off_time\" records is %.2f%%' %((data['paid_off_time'].isnull().sum()/data.shape[0])*100))"
   ]
  },
  {
   "cell_type": "markdown",
   "metadata": {},
   "source": [
    "# percent of missing \"past_due_days\""
   ]
  },
  {
   "cell_type": "code",
   "execution_count": 7,
   "metadata": {},
   "outputs": [
    {
     "name": "stdout",
     "output_type": "stream",
     "text": [
      "Percent of missing \"past_due_days\" records is 60.00%\n"
     ]
    }
   ],
   "source": [
    "print('Percent of missing \"past_due_days\" records is %.2f%%' %((data['past_due_days'].isnull().sum()/data.shape[0])*100))"
   ]
  },
  {
   "cell_type": "markdown",
   "metadata": {},
   "source": [
    "# unique 'principal' list"
   ]
  },
  {
   "cell_type": "code",
   "execution_count": 8,
   "metadata": {},
   "outputs": [
    {
     "data": {
      "text/plain": [
       "array([1000,  300,  800,  900,  700,  500], dtype=int64)"
      ]
     },
     "execution_count": 8,
     "metadata": {},
     "output_type": "execute_result"
    }
   ],
   "source": [
    "data['Principal'].unique()"
   ]
  },
  {
   "cell_type": "markdown",
   "metadata": {},
   "source": [
    "# unique 'loan_status' list"
   ]
  },
  {
   "cell_type": "code",
   "execution_count": 9,
   "metadata": {},
   "outputs": [
    {
     "data": {
      "text/plain": [
       "array(['PAIDOFF', 'COLLECTION', 'COLLECTION_PAIDOFF'], dtype=object)"
      ]
     },
     "execution_count": 9,
     "metadata": {},
     "output_type": "execute_result"
    }
   ],
   "source": [
    "data['loan_status'].unique()"
   ]
  },
  {
   "cell_type": "markdown",
   "metadata": {},
   "source": [
    "# Preview data information"
   ]
  },
  {
   "cell_type": "code",
   "execution_count": 10,
   "metadata": {},
   "outputs": [
    {
     "name": "stdout",
     "output_type": "stream",
     "text": [
      "<class 'pandas.core.frame.DataFrame'>\n",
      "RangeIndex: 500 entries, 0 to 499\n",
      "Data columns (total 11 columns):\n",
      "Loan_ID           500 non-null object\n",
      "loan_status       500 non-null object\n",
      "Principal         500 non-null int64\n",
      "terms             500 non-null int64\n",
      "effective_date    500 non-null object\n",
      "due_date          500 non-null object\n",
      "paid_off_time     400 non-null object\n",
      "past_due_days     200 non-null float64\n",
      "age               500 non-null int64\n",
      "education         500 non-null object\n",
      "Gender            500 non-null object\n",
      "dtypes: float64(1), int64(3), object(7)\n",
      "memory usage: 43.0+ KB\n"
     ]
    }
   ],
   "source": [
    "data.info()"
   ]
  },
  {
   "cell_type": "markdown",
   "metadata": {},
   "source": [
    "# <font color=\"orange\">'loan status'</font> types as percentage in a graph view"
   ]
  },
  {
   "cell_type": "code",
   "execution_count": 11,
   "metadata": {},
   "outputs": [
    {
     "data": {
      "image/png": "[encoded data removed]",
      "text/plain": [
       "<Figure size 432x288 with 1 Axes>"
      ]
     },
     "metadata": {},
     "output_type": "display_data"
    }
   ],
   "source": [
    "data_preview = data.copy()\n",
    "label_unique = data['loan_status'].unique()\n",
    "label_occurance_count = data_preview.groupby('loan_status').size()\n",
    "plt.pie(label_occurance_count, labels = label_occurance_count,counterclock=False, shadow=True, radius = 2, autopct='%1.1f%%', labeldistance = 1.1)\n",
    "plt.title('loan status types as percentage in a graph view', y=1.5, bbox={'facecolor':'#EBF1DE', 'pad':18})\n",
    "plt.legend(label_unique,loc=\"top right\", bbox_to_anchor=(1.36,1.26))\n",
    "plt.subplots_adjust(left=0.1, bottom=0.1, right=0.75)\n",
    "plt.show()"
   ]
  },
  {
   "cell_type": "markdown",
   "metadata": {},
   "source": [
    "# dataset use"
   ]
  },
  {
   "cell_type": "code",
   "execution_count": 12,
   "metadata": {},
   "outputs": [],
   "source": [
    "new_data = data.copy()"
   ]
  },
  {
   "cell_type": "markdown",
   "metadata": {},
   "source": [
    "# <font color = \"red\">preprocessing by using Encoder on label</font>"
   ]
  },
  {
   "cell_type": "code",
   "execution_count": 13,
   "metadata": {},
   "outputs": [],
   "source": [
    "le=preprocessing.LabelEncoder()\n",
    "data['loan_status']=le.fit_transform(data['loan_status'])\n",
    "data['Gender']=le.fit_transform(data['Gender'])\n",
    "data['education']=le.fit_transform(data['education'])\n",
    "data['past_due_days']=le.fit_transform(data['past_due_days'])"
   ]
  },
  {
   "cell_type": "markdown",
   "metadata": {},
   "source": [
    "# first five rows view after transformation"
   ]
  },
  {
   "cell_type": "code",
   "execution_count": 14,
   "metadata": {},
   "outputs": [
    {
     "data": {
      "text/html": [
       "<div>\n",
       "<style scoped>\n",
       "    .dataframe tbody tr th:only-of-type {\n",
       "        vertical-align: middle;\n",
       "    }\n",
       "\n",
       "    .dataframe tbody tr th {\n",
       "        vertical-align: top;\n",
       "    }\n",
       "\n",
       "    .dataframe thead th {\n",
       "        text-align: right;\n",
       "    }\n",
       "</style>\n",
       "<table border=\"1\" class=\"dataframe\">\n",
       "  <thead>\n",
       "    <tr style=\"text-align: right;\">\n",
       "      <th></th>\n",
       "      <th>Loan_ID</th>\n",
       "      <th>loan_status</th>\n",
       "      <th>Principal</th>\n",
       "      <th>terms</th>\n",
       "      <th>effective_date</th>\n",
       "      <th>due_date</th>\n",
       "      <th>paid_off_time</th>\n",
       "      <th>past_due_days</th>\n",
       "      <th>age</th>\n",
       "      <th>education</th>\n",
       "      <th>Gender</th>\n",
       "    </tr>\n",
       "  </thead>\n",
       "  <tbody>\n",
       "    <tr>\n",
       "      <th>0</th>\n",
       "      <td>xqd20166231</td>\n",
       "      <td>2</td>\n",
       "      <td>1000</td>\n",
       "      <td>30</td>\n",
       "      <td>9/8/2016</td>\n",
       "      <td>10/7/2016</td>\n",
       "      <td>9/14/2016 19:31</td>\n",
       "      <td>83</td>\n",
       "      <td>45</td>\n",
       "      <td>1</td>\n",
       "      <td>1</td>\n",
       "    </tr>\n",
       "    <tr>\n",
       "      <th>1</th>\n",
       "      <td>xqd20168902</td>\n",
       "      <td>2</td>\n",
       "      <td>1000</td>\n",
       "      <td>30</td>\n",
       "      <td>9/8/2016</td>\n",
       "      <td>10/7/2016</td>\n",
       "      <td>10/7/2016 9:00</td>\n",
       "      <td>173</td>\n",
       "      <td>50</td>\n",
       "      <td>0</td>\n",
       "      <td>0</td>\n",
       "    </tr>\n",
       "    <tr>\n",
       "      <th>2</th>\n",
       "      <td>xqd20160003</td>\n",
       "      <td>2</td>\n",
       "      <td>1000</td>\n",
       "      <td>30</td>\n",
       "      <td>9/8/2016</td>\n",
       "      <td>10/7/2016</td>\n",
       "      <td>9/25/2016 16:58</td>\n",
       "      <td>172</td>\n",
       "      <td>33</td>\n",
       "      <td>0</td>\n",
       "      <td>0</td>\n",
       "    </tr>\n",
       "    <tr>\n",
       "      <th>3</th>\n",
       "      <td>xqd20160004</td>\n",
       "      <td>2</td>\n",
       "      <td>1000</td>\n",
       "      <td>15</td>\n",
       "      <td>9/8/2016</td>\n",
       "      <td>9/22/2016</td>\n",
       "      <td>9/22/2016 20:00</td>\n",
       "      <td>171</td>\n",
       "      <td>27</td>\n",
       "      <td>3</td>\n",
       "      <td>1</td>\n",
       "    </tr>\n",
       "    <tr>\n",
       "      <th>4</th>\n",
       "      <td>xqd20160005</td>\n",
       "      <td>2</td>\n",
       "      <td>1000</td>\n",
       "      <td>30</td>\n",
       "      <td>9/9/2016</td>\n",
       "      <td>10/8/2016</td>\n",
       "      <td>9/23/2016 21:36</td>\n",
       "      <td>170</td>\n",
       "      <td>28</td>\n",
       "      <td>3</td>\n",
       "      <td>0</td>\n",
       "    </tr>\n",
       "  </tbody>\n",
       "</table>\n",
       "</div>"
      ],
      "text/plain": [
       "       Loan_ID  loan_status  Principal  terms effective_date   due_date  \\\n",
       "0  xqd20166231            2       1000     30       9/8/2016  10/7/2016   \n",
       "1  xqd20168902            2       1000     30       9/8/2016  10/7/2016   \n",
       "2  xqd20160003            2       1000     30       9/8/2016  10/7/2016   \n",
       "3  xqd20160004            2       1000     15       9/8/2016  9/22/2016   \n",
       "4  xqd20160005            2       1000     30       9/9/2016  10/8/2016   \n",
       "\n",
       "     paid_off_time  past_due_days  age  education  Gender  \n",
       "0  9/14/2016 19:31             83   45          1       1  \n",
       "1   10/7/2016 9:00            173   50          0       0  \n",
       "2  9/25/2016 16:58            172   33          0       0  \n",
       "3  9/22/2016 20:00            171   27          3       1  \n",
       "4  9/23/2016 21:36            170   28          3       0  "
      ]
     },
     "execution_count": 14,
     "metadata": {},
     "output_type": "execute_result"
    }
   ],
   "source": [
    "data.head()"
   ]
  },
  {
   "cell_type": "markdown",
   "metadata": {},
   "source": [
    "# <font color = \"orange\">data information after transformation</font>"
   ]
  },
  {
   "cell_type": "code",
   "execution_count": 15,
   "metadata": {},
   "outputs": [
    {
     "name": "stdout",
     "output_type": "stream",
     "text": [
      "<class 'pandas.core.frame.DataFrame'>\n",
      "RangeIndex: 500 entries, 0 to 499\n",
      "Data columns (total 11 columns):\n",
      "Loan_ID           500 non-null object\n",
      "loan_status       500 non-null int64\n",
      "Principal         500 non-null int64\n",
      "terms             500 non-null int64\n",
      "effective_date    500 non-null object\n",
      "due_date          500 non-null object\n",
      "paid_off_time     400 non-null object\n",
      "past_due_days     500 non-null int64\n",
      "age               500 non-null int64\n",
      "education         500 non-null int64\n",
      "Gender            500 non-null int64\n",
      "dtypes: int64(7), object(4)\n",
      "memory usage: 43.0+ KB\n"
     ]
    }
   ],
   "source": [
    "data.info()"
   ]
  },
  {
   "cell_type": "markdown",
   "metadata": {},
   "source": [
    "# new_data group by 'loan_status' and count 'loan_status' by gender"
   ]
  },
  {
   "cell_type": "code",
   "execution_count": 16,
   "metadata": {},
   "outputs": [
    {
     "data": {
      "text/html": [
       "<div>\n",
       "<style scoped>\n",
       "    .dataframe tbody tr th:only-of-type {\n",
       "        vertical-align: middle;\n",
       "    }\n",
       "\n",
       "    .dataframe tbody tr th {\n",
       "        vertical-align: top;\n",
       "    }\n",
       "\n",
       "    .dataframe thead th {\n",
       "        text-align: right;\n",
       "    }\n",
       "</style>\n",
       "<table border=\"1\" class=\"dataframe\">\n",
       "  <thead>\n",
       "    <tr style=\"text-align: right;\">\n",
       "      <th></th>\n",
       "      <th>count</th>\n",
       "    </tr>\n",
       "    <tr>\n",
       "      <th>loan_status</th>\n",
       "      <th></th>\n",
       "    </tr>\n",
       "  </thead>\n",
       "  <tbody>\n",
       "    <tr>\n",
       "      <th>COLLECTION</th>\n",
       "      <td>100</td>\n",
       "    </tr>\n",
       "    <tr>\n",
       "      <th>COLLECTION_PAIDOFF</th>\n",
       "      <td>100</td>\n",
       "    </tr>\n",
       "    <tr>\n",
       "      <th>PAIDOFF</th>\n",
       "      <td>300</td>\n",
       "    </tr>\n",
       "  </tbody>\n",
       "</table>\n",
       "</div>"
      ],
      "text/plain": [
       "                    count\n",
       "loan_status              \n",
       "COLLECTION            100\n",
       "COLLECTION_PAIDOFF    100\n",
       "PAIDOFF               300"
      ]
     },
     "execution_count": 16,
     "metadata": {},
     "output_type": "execute_result"
    }
   ],
   "source": [
    "new_data.groupby('loan_status')['Gender'].agg(['count'])"
   ]
  },
  {
   "cell_type": "markdown",
   "metadata": {},
   "source": [
    "# a bar graph by \"Gender\" and \"loan_status\" with \"education\" as hue"
   ]
  },
  {
   "cell_type": "code",
   "execution_count": 17,
   "metadata": {},
   "outputs": [
    {
     "data": {
      "image/png": "[encoded data removed]",
      "text/plain": [
       "<Figure size 432x288 with 1 Axes>"
      ]
     },
     "metadata": {},
     "output_type": "display_data"
    }
   ],
   "source": [
    "sns.barplot(x=\"Gender\", y=\"loan_status\", hue=\"education\", data=data);"
   ]
  },
  {
   "cell_type": "markdown",
   "metadata": {},
   "source": [
    "# unique values of 'past_due_days'"
   ]
  },
  {
   "cell_type": "code",
   "execution_count": 18,
   "metadata": {},
   "outputs": [
    {
     "data": {
      "text/plain": [
       "array([ 83, 173, 172, 171, 170, 169, 168, 167, 166, 165, 164, 163, 162,\n",
       "       161, 160, 159, 158, 157, 156, 155, 154, 153, 152, 151, 150, 149,\n",
       "       148, 147, 174, 175, 176, 177, 205, 204, 203, 202, 201, 200, 199,\n",
       "       198, 197, 196, 195, 194, 193, 206, 192, 190, 189, 188, 187, 186,\n",
       "       185, 184, 183, 182, 181, 180, 179, 178, 146, 145, 144, 113, 111,\n",
       "       110, 109, 108, 107, 106, 105, 104, 103, 102, 101, 100,  99,  98,\n",
       "        97,  96,  95,  94,  93,  92,  91,  90,  89,  88,  87,  86,  85,\n",
       "       112, 114, 143, 115, 142, 141, 140, 139, 138, 137, 136, 135, 134,\n",
       "       133, 132, 131, 130, 129, 128, 127, 126, 125, 124, 123, 122, 121,\n",
       "       120, 119, 118, 117, 116, 191, 208, 316, 209, 298, 297, 296, 295,\n",
       "       294, 293, 292, 291, 290, 289, 288, 287, 286, 285, 284, 283, 282,\n",
       "       281, 280, 279, 278, 277, 276, 275, 274, 273, 272, 299, 300, 301,\n",
       "       302, 330, 329, 328, 327, 326, 325, 324, 323, 322, 321, 320, 319,\n",
       "       318, 331, 317, 315, 314, 313, 312, 311, 310, 309, 308, 307, 306,\n",
       "       305, 304, 303, 271, 270, 269, 238, 236, 235, 234, 233, 232, 231,\n",
       "       230, 229, 228, 227, 226, 225, 224, 223, 222, 221, 220, 219, 218,\n",
       "       217, 216, 215, 214, 213, 212, 211, 210, 237, 239, 268, 240, 267,\n",
       "       266, 265, 264, 263, 262, 261, 260, 259, 258, 257, 256, 255, 254,\n",
       "       253, 252, 251, 250, 249, 248, 247, 246, 245, 244, 243, 242, 241,\n",
       "        84, 207, 332,  59,  54,  53,  43,  51,  50,  49,  48,  47,  46,\n",
       "        45,  44,  55,  42,  39,  33,  34,  35,  41,  37,  36,  38,  40,\n",
       "        52,  56,  69,  58,  80,  79,  78,  77,  76,  75,  74,  73,  57,\n",
       "        72,  71,  81,  70,  68,  67,  66,  82,  65,  64,  63,  62,  61,\n",
       "        60,  32,  28,  31,  27,  26,  30,  18,  21,  25,  29,  17,   1,\n",
       "         3,  10,   4,   2,   9,  16,   0,  15,  14,  19,   6,  11,  13,\n",
       "         5,  20,  12,  23,  22,   8,  24,   7], dtype=int64)"
      ]
     },
     "execution_count": 18,
     "metadata": {},
     "output_type": "execute_result"
    }
   ],
   "source": [
    "data['past_due_days'].unique()"
   ]
  },
  {
   "cell_type": "markdown",
   "metadata": {},
   "source": [
    "# likely to keep due days"
   ]
  },
  {
   "cell_type": "code",
   "execution_count": 19,
   "metadata": {},
   "outputs": [
    {
     "data": {
      "text/html": [
       "<div>\n",
       "<style scoped>\n",
       "    .dataframe tbody tr th:only-of-type {\n",
       "        vertical-align: middle;\n",
       "    }\n",
       "\n",
       "    .dataframe tbody tr th {\n",
       "        vertical-align: top;\n",
       "    }\n",
       "\n",
       "    .dataframe thead th {\n",
       "        text-align: right;\n",
       "    }\n",
       "</style>\n",
       "<table border=\"1\" class=\"dataframe\">\n",
       "  <thead>\n",
       "    <tr style=\"text-align: right;\">\n",
       "      <th></th>\n",
       "      <th>sum</th>\n",
       "    </tr>\n",
       "    <tr>\n",
       "      <th>Gender</th>\n",
       "      <th></th>\n",
       "    </tr>\n",
       "  </thead>\n",
       "  <tbody>\n",
       "    <tr>\n",
       "      <th>0</th>\n",
       "      <td>9677</td>\n",
       "    </tr>\n",
       "    <tr>\n",
       "      <th>1</th>\n",
       "      <td>48332</td>\n",
       "    </tr>\n",
       "  </tbody>\n",
       "</table>\n",
       "</div>"
      ],
      "text/plain": [
       "          sum\n",
       "Gender       \n",
       "0        9677\n",
       "1       48332"
      ]
     },
     "execution_count": 19,
     "metadata": {},
     "output_type": "execute_result"
    }
   ],
   "source": [
    "x=data.groupby('Gender')['past_due_days'].agg(['sum'])\n",
    "x=pd.DataFrame(x)\n",
    "x"
   ]
  },
  {
   "cell_type": "markdown",
   "metadata": {},
   "source": [
    "# a bar graph by \"Gender\" and \"loan_status\""
   ]
  },
  {
   "cell_type": "code",
   "execution_count": 20,
   "metadata": {},
   "outputs": [
    {
     "data": {
      "text/plain": [
       "<matplotlib.axes._subplots.AxesSubplot at 0x8aacc15f8>"
      ]
     },
     "execution_count": 20,
     "metadata": {},
     "output_type": "execute_result"
    },
    {
     "data": {
      "image/png": "[encoded data removed]",
      "text/plain": [
       "<Figure size 432x288 with 1 Axes>"
      ]
     },
     "metadata": {},
     "output_type": "display_data"
    }
   ],
   "source": [
    "sns.barplot(x='Gender',y='loan_status',data=data)"
   ]
  },
  {
   "cell_type": "markdown",
   "metadata": {},
   "source": [
    "# a bar graph by \"age\" and \"loan_status\""
   ]
  },
  {
   "cell_type": "code",
   "execution_count": 21,
   "metadata": {},
   "outputs": [
    {
     "data": {
      "text/plain": [
       "<matplotlib.axes._subplots.AxesSubplot at 0x8aad19eb8>"
      ]
     },
     "execution_count": 21,
     "metadata": {},
     "output_type": "execute_result"
    },
    {
     "data": {
      "image/png": "[encoded data removed]",
      "text/plain": [
       "<Figure size 432x288 with 1 Axes>"
      ]
     },
     "metadata": {},
     "output_type": "display_data"
    }
   ],
   "source": [
    "sns.barplot(x='age',y='loan_status',data=data)"
   ]
  },
  {
   "cell_type": "markdown",
   "metadata": {},
   "source": [
    "# a factor graph by \"age\" and \"loan_status\""
   ]
  },
  {
   "cell_type": "code",
   "execution_count": 22,
   "metadata": {},
   "outputs": [
    {
     "data": {
      "text/plain": [
       "<seaborn.axisgrid.FacetGrid at 0x8aad07940>"
      ]
     },
     "execution_count": 22,
     "metadata": {},
     "output_type": "execute_result"
    },
    {
     "data": {
      "image/png": "[encoded data removed]",
      "text/plain": [
       "<Figure size 288x288 with 1 Axes>"
      ]
     },
     "metadata": {},
     "output_type": "display_data"
    }
   ],
   "source": [
    "sns.factorplot(x='age',y='loan_status',data=data)"
   ]
  },
  {
   "cell_type": "markdown",
   "metadata": {},
   "source": [
    "# a bar graph by \"education\" and \"loan_status\""
   ]
  },
  {
   "cell_type": "code",
   "execution_count": 23,
   "metadata": {},
   "outputs": [
    {
     "data": {
      "text/plain": [
       "<matplotlib.axes._subplots.AxesSubplot at 0x8aaf5e1d0>"
      ]
     },
     "execution_count": 23,
     "metadata": {},
     "output_type": "execute_result"
    },
    {
     "data": {
      "image/png": "[encoded data removed]",
      "text/plain": [
       "<Figure size 432x288 with 1 Axes>"
      ]
     },
     "metadata": {},
     "output_type": "display_data"
    }
   ],
   "source": [
    "sns.barplot(x='education',y='loan_status',data=data)"
   ]
  },
  {
   "cell_type": "markdown",
   "metadata": {},
   "source": [
    "# a count graph by \"Gender\""
   ]
  },
  {
   "cell_type": "code",
   "execution_count": 24,
   "metadata": {},
   "outputs": [
    {
     "data": {
      "text/plain": [
       "<matplotlib.axes._subplots.AxesSubplot at 0x8aafc67b8>"
      ]
     },
     "execution_count": 24,
     "metadata": {},
     "output_type": "execute_result"
    },
    {
     "data": {
      "image/png": "[encoded data removed]",
      "text/plain": [
       "<Figure size 432x288 with 1 Axes>"
      ]
     },
     "metadata": {},
     "output_type": "display_data"
    }
   ],
   "source": [
    "sns.countplot(x='Gender',data=data)"
   ]
  },
  {
   "cell_type": "markdown",
   "metadata": {},
   "source": [
    "# use of dataset- data"
   ]
  },
  {
   "cell_type": "code",
   "execution_count": 25,
   "metadata": {},
   "outputs": [],
   "source": [
    "processed_analysis_data=data"
   ]
  },
  {
   "cell_type": "markdown",
   "metadata": {},
   "source": [
    "# <font color = \"green\">select 'loan_status' as label or y value</font>"
   ]
  },
  {
   "cell_type": "code",
   "execution_count": 26,
   "metadata": {},
   "outputs": [],
   "source": [
    "label = processed_analysis_data.pop('loan_status')"
   ]
  },
  {
   "cell_type": "markdown",
   "metadata": {},
   "source": [
    "# <font color='red'>DATA CLEANING</font> by drop of column name- 'Loan_ID', 'effective_date', 'due_date', 'paid_off_time' <font color='orange'>from processed_analysis_data dataset</font>"
   ]
  },
  {
   "cell_type": "code",
   "execution_count": 27,
   "metadata": {},
   "outputs": [],
   "source": [
    "processed_analysis_data.drop('Loan_ID', axis=1, inplace=True)\n",
    "processed_analysis_data.drop('effective_date', axis=1, inplace=True)\n",
    "processed_analysis_data.drop('due_date', axis=1, inplace=True)\n",
    "processed_analysis_data.drop('paid_off_time', axis=1, inplace=True)"
   ]
  },
  {
   "cell_type": "markdown",
   "metadata": {},
   "source": [
    "# first five rows view of processed_analysis_data"
   ]
  },
  {
   "cell_type": "code",
   "execution_count": 28,
   "metadata": {},
   "outputs": [
    {
     "data": {
      "text/html": [
       "<div>\n",
       "<style scoped>\n",
       "    .dataframe tbody tr th:only-of-type {\n",
       "        vertical-align: middle;\n",
       "    }\n",
       "\n",
       "    .dataframe tbody tr th {\n",
       "        vertical-align: top;\n",
       "    }\n",
       "\n",
       "    .dataframe thead th {\n",
       "        text-align: right;\n",
       "    }\n",
       "</style>\n",
       "<table border=\"1\" class=\"dataframe\">\n",
       "  <thead>\n",
       "    <tr style=\"text-align: right;\">\n",
       "      <th></th>\n",
       "      <th>Principal</th>\n",
       "      <th>terms</th>\n",
       "      <th>past_due_days</th>\n",
       "      <th>age</th>\n",
       "      <th>education</th>\n",
       "      <th>Gender</th>\n",
       "    </tr>\n",
       "  </thead>\n",
       "  <tbody>\n",
       "    <tr>\n",
       "      <th>0</th>\n",
       "      <td>1000</td>\n",
       "      <td>30</td>\n",
       "      <td>83</td>\n",
       "      <td>45</td>\n",
       "      <td>1</td>\n",
       "      <td>1</td>\n",
       "    </tr>\n",
       "    <tr>\n",
       "      <th>1</th>\n",
       "      <td>1000</td>\n",
       "      <td>30</td>\n",
       "      <td>173</td>\n",
       "      <td>50</td>\n",
       "      <td>0</td>\n",
       "      <td>0</td>\n",
       "    </tr>\n",
       "    <tr>\n",
       "      <th>2</th>\n",
       "      <td>1000</td>\n",
       "      <td>30</td>\n",
       "      <td>172</td>\n",
       "      <td>33</td>\n",
       "      <td>0</td>\n",
       "      <td>0</td>\n",
       "    </tr>\n",
       "    <tr>\n",
       "      <th>3</th>\n",
       "      <td>1000</td>\n",
       "      <td>15</td>\n",
       "      <td>171</td>\n",
       "      <td>27</td>\n",
       "      <td>3</td>\n",
       "      <td>1</td>\n",
       "    </tr>\n",
       "    <tr>\n",
       "      <th>4</th>\n",
       "      <td>1000</td>\n",
       "      <td>30</td>\n",
       "      <td>170</td>\n",
       "      <td>28</td>\n",
       "      <td>3</td>\n",
       "      <td>0</td>\n",
       "    </tr>\n",
       "  </tbody>\n",
       "</table>\n",
       "</div>"
      ],
      "text/plain": [
       "   Principal  terms  past_due_days  age  education  Gender\n",
       "0       1000     30             83   45          1       1\n",
       "1       1000     30            173   50          0       0\n",
       "2       1000     30            172   33          0       0\n",
       "3       1000     15            171   27          3       1\n",
       "4       1000     30            170   28          3       0"
      ]
     },
     "execution_count": 28,
     "metadata": {},
     "output_type": "execute_result"
    }
   ],
   "source": [
    "processed_analysis_data.head(5)"
   ]
  },
  {
   "cell_type": "markdown",
   "metadata": {},
   "source": [
    "# <font color = \"light-blue\">Train-Test split processed_analysis_data as 80% train data and 20% test data</font>"
   ]
  },
  {
   "cell_type": "code",
   "execution_count": 29,
   "metadata": {},
   "outputs": [],
   "source": [
    "data_train, data_test, label_train, label_test = train_test_split(processed_analysis_data, label, test_size = 0.2, random_state = 42)"
   ]
  },
  {
   "cell_type": "markdown",
   "metadata": {},
   "source": [
    "# a classifiers dictionary"
   ]
  },
  {
   "cell_type": "code",
   "execution_count": 30,
   "metadata": {},
   "outputs": [],
   "source": [
    "classifiers={\n",
    "    \"K_Neighbors_Classifier\": KNeighborsClassifier(), \n",
    "    \"Decision_Tree_Classifier\": DecisionTreeClassifier(random_state = 42),\n",
    "    \"support_vector_machine\": svm.LinearSVC(random_state = 42), \n",
    "    \"Logistic_Regression\": LogisticRegression(random_state = 42)\n",
    "            }"
   ]
  },
  {
   "cell_type": "markdown",
   "metadata": {},
   "source": [
    "# <font color = \"orange\">use for loop to enumerate classifiers items</font>"
   ]
  },
  {
   "cell_type": "code",
   "execution_count": 31,
   "metadata": {},
   "outputs": [
    {
     "name": "stdout",
     "output_type": "stream",
     "text": [
      "\n",
      "\n",
      "\n",
      "\n",
      "error in  K_Neighbors_Classifier prediction: 3\n",
      "\n",
      "\n",
      "\n",
      "accuracy score in prediction: \n",
      "0.97\n",
      "model accuracy: \n",
      "0.97\n",
      "cross validation score: \n",
      "[0.98 1.   0.98 1.   0.96 0.98 0.98 0.96 0.72 0.92]\n",
      "cross_validation_score.mean(): \n",
      "0.9480000000000001\n",
      "\n",
      "\n",
      "\n",
      "confusion matrix: \n",
      "[[24  0  0]\n",
      " [ 3 21  0]\n",
      " [ 0  0 52]]\n",
      "\n",
      "\n",
      "\n",
      "f1_score by average as macro : 0.9581699346405229\n",
      "f1_score by average as micro : 0.97\n",
      "f1_score by average as weighted : 0.9698823529411764\n",
      "f1_score by average as None : [0.94117647 0.93333333 1.        ]\n",
      "\n",
      "\n",
      "\n",
      "jaccard similarity score 1 : 0.97\n",
      "jaccard similarity score 2 : 97\n",
      "\n",
      "\n",
      "\n",
      "log loss : 0.39425017594636375\n",
      "\n",
      "\n",
      "\n",
      "precision score with average value as micro: 0.97\n",
      "precision score with average value as macro: 0.9629629629629629\n",
      "precision score with average value as weighted: 0.9733333333333333\n",
      "\n",
      "\n",
      "\n",
      "recall score with average value as micro: 0.97\n",
      "recall score with average value as macro: 0.9583333333333334\n",
      "recall score with average value as weighted: 0.97\n",
      "\n",
      "\n",
      "\n",
      "classification report: \n",
      "             precision    recall  f1-score   support\n",
      "\n",
      "          0       0.89      1.00      0.94        24\n",
      "          1       1.00      0.88      0.93        24\n",
      "          2       1.00      1.00      1.00        52\n",
      "\n",
      "avg / total       0.97      0.97      0.97       100\n",
      "\n",
      "\n",
      "\n",
      "\n",
      "\n",
      "K_Neighbors_Classifier classifier section end. \n",
      "\n",
      "\n",
      "--------------------------------------------------------- \n",
      "\n",
      "\n",
      "\n",
      " \n",
      "\n",
      "\n",
      "\n",
      "\n",
      "\n",
      "error in  Decision_Tree_Classifier prediction: 3\n",
      "\n",
      "\n",
      "\n",
      "accuracy score in prediction: \n",
      "0.97\n",
      "model accuracy: \n",
      "0.97\n",
      "cross validation score: \n",
      "[0.98 1.   0.98 1.   1.   1.   1.   0.96 0.94 0.92]\n",
      "cross_validation_score.mean(): \n",
      "0.978\n",
      "\n",
      "\n",
      "\n",
      "confusion matrix: \n",
      "[[24  0  0]\n",
      " [ 3 21  0]\n",
      " [ 0  0 52]]\n",
      "\n",
      "\n",
      "\n",
      "f1_score by average as macro : 0.9581699346405229\n",
      "f1_score by average as micro : 0.97\n",
      "f1_score by average as weighted : 0.9698823529411764\n",
      "f1_score by average as None : [0.94117647 0.93333333 1.        ]\n",
      "\n",
      "\n",
      "\n",
      "jaccard similarity score 1 : 0.97\n",
      "jaccard similarity score 2 : 97\n",
      "\n",
      "\n",
      "\n",
      "log loss : 1.0361632918473223\n",
      "\n",
      "\n",
      "\n",
      "precision score with average value as micro: 0.97\n",
      "precision score with average value as macro: 0.9629629629629629\n",
      "precision score with average value as weighted: 0.9733333333333333\n",
      "\n",
      "\n",
      "\n",
      "recall score with average value as micro: 0.97\n",
      "recall score with average value as macro: 0.9583333333333334\n",
      "recall score with average value as weighted: 0.97\n",
      "\n",
      "\n",
      "\n",
      "classification report: \n",
      "             precision    recall  f1-score   support\n",
      "\n",
      "          0       0.89      1.00      0.94        24\n",
      "          1       1.00      0.88      0.93        24\n",
      "          2       1.00      1.00      1.00        52\n",
      "\n",
      "avg / total       0.97      0.97      0.97       100\n",
      "\n",
      "\n",
      "\n",
      "\n",
      "\n",
      "Decision_Tree_Classifier classifier section end. \n",
      "\n",
      "\n",
      "--------------------------------------------------------- \n",
      "\n",
      "\n",
      "\n",
      " \n",
      "\n",
      "\n",
      "\n",
      "\n",
      "\n",
      "error in  support_vector_machine prediction: 8\n",
      "\n",
      "\n",
      "\n",
      "accuracy score in prediction: \n",
      "0.92\n",
      "model accuracy: \n",
      "0.92\n",
      "cross validation score: \n",
      "[0.86 0.98 0.98 0.94 0.8  0.8  0.8  0.88 0.8  0.88]\n",
      "cross_validation_score.mean(): \n",
      "0.8720000000000001\n",
      "\n",
      "\n",
      "\n",
      "confusion matrix: \n",
      "[[24  0  0]\n",
      " [ 7 17  0]\n",
      " [ 1  0 51]]\n",
      "\n",
      "\n",
      "\n",
      "f1_score by average as macro : 0.8922341373205688\n",
      "f1_score by average as micro : 0.92\n",
      "f1_score by average as weighted : 0.9196901322688678\n",
      "f1_score by average as None : [0.85714286 0.82926829 0.99029126]\n",
      "\n",
      "\n",
      "\n",
      "jaccard similarity score 1 : 0.92\n",
      "jaccard similarity score 2 : 92\n",
      "\n",
      "\n",
      "\n",
      "log loss : 1.4360493380759018\n",
      "\n",
      "\n",
      "\n",
      "precision score with average value as micro: 0.92\n",
      "precision score with average value as macro: 0.9166666666666666\n",
      "precision score with average value as weighted: 0.94\n",
      "\n",
      "\n",
      "\n",
      "recall score with average value as micro: 0.92\n",
      "recall score with average value as macro: 0.8963675213675214\n",
      "recall score with average value as weighted: 0.92\n",
      "\n",
      "\n",
      "\n",
      "classification report: \n",
      "             precision    recall  f1-score   support\n",
      "\n",
      "          0       0.75      1.00      0.86        24\n",
      "          1       1.00      0.71      0.83        24\n",
      "          2       1.00      0.98      0.99        52\n",
      "\n",
      "avg / total       0.94      0.92      0.92       100\n",
      "\n",
      "\n",
      "\n",
      "\n",
      "\n",
      "support_vector_machine classifier section end. \n",
      "\n",
      "\n",
      "--------------------------------------------------------- \n",
      "\n",
      "\n",
      "\n",
      " \n",
      "\n",
      "\n",
      "\n",
      "\n",
      "\n",
      "error in  Logistic_Regression prediction: 3\n",
      "\n",
      "\n",
      "\n",
      "accuracy score in prediction: \n",
      "0.97\n",
      "model accuracy: \n",
      "0.97\n",
      "cross validation score: \n",
      "[0.96 0.98 0.98 0.96 0.98 0.98 0.98 0.96 0.82 0.94]\n",
      "cross_validation_score.mean(): \n",
      "0.954\n",
      "\n",
      "\n",
      "\n",
      "confusion matrix: \n",
      "[[23  0  1]\n",
      " [ 2 22  0]\n",
      " [ 0  0 52]]\n",
      "\n",
      "\n",
      "\n",
      "f1_score by average as macro : 0.9619244799369023\n",
      "f1_score by average as micro : 0.97\n",
      "f1_score by average as weighted : 0.9699189588879031\n",
      "f1_score by average as None : [0.93877551 0.95652174 0.99047619]\n",
      "\n",
      "\n",
      "\n",
      "jaccard similarity score 1 : 0.97\n",
      "jaccard similarity score 2 : 97\n",
      "\n",
      "\n",
      "\n",
      "log loss : 0.17952338614918326\n",
      "\n",
      "\n",
      "\n",
      "precision score with average value as micro: 0.97\n",
      "precision score with average value as macro: 0.9670440251572326\n",
      "precision score with average value as weighted: 0.9709886792452829\n",
      "\n",
      "\n",
      "\n",
      "recall score with average value as micro: 0.97\n",
      "recall score with average value as macro: 0.9583333333333334\n",
      "recall score with average value as weighted: 0.97\n",
      "\n",
      "\n",
      "\n",
      "classification report: \n",
      "             precision    recall  f1-score   support\n",
      "\n",
      "          0       0.92      0.96      0.94        24\n",
      "          1       1.00      0.92      0.96        24\n",
      "          2       0.98      1.00      0.99        52\n",
      "\n",
      "avg / total       0.97      0.97      0.97       100\n",
      "\n",
      "\n",
      "\n",
      "\n",
      "\n",
      "Logistic_Regression classifier section end. \n",
      "\n",
      "\n",
      "--------------------------------------------------------- \n",
      "\n",
      "\n",
      "\n",
      " \n",
      "\n"
     ]
    }
   ],
   "source": [
    "metrics = pd.DataFrame(index = \n",
    "      ['jaccard', 'f1_score', 'log_loss', 'accuracy', 'cross_val'], \n",
    "                       columns = \n",
    "     [\"K_Neighbors_Classifier\", \"Decision_Tree_Classifier\", \"support_vector_machine\", \"Logistic_Regression\"])\n",
    "\n",
    "for i, (clf_name, clf) in enumerate(classifiers.items()):\n",
    "\n",
    "    if clf_name == \"K_Neighbors_Classifier\":\n",
    "        clf.fit(data_train, label_train)\n",
    "        y_pred = clf.predict(data_test)\n",
    "        \n",
    "    elif clf_name == \"Decision_Tree_Classifier\":\n",
    "        clf.fit(data_train, label_train)\n",
    "        y_pred = clf.predict(data_test)\n",
    "        \n",
    "    elif clf_name == \"support_vector_machine\":\n",
    "        clf.fit(data_train, label_train)\n",
    "        y_pred = clf.predict(data_test)\n",
    "        \n",
    "    else: \n",
    "        clf.fit(data_train, label_train)\n",
    "        y_pred = clf.predict(data_test)\n",
    "    \n",
    "    n_errors = (y_pred != label_test).sum()\n",
    "\n",
    "    print(\"\\n\\n\\n\")\n",
    "    \n",
    "    # error in prediction\n",
    "    print('{} {} {}: {}'.format(\"error in \" ,clf_name, \"prediction\", n_errors))\n",
    "    \n",
    "    print(\"\\n\\n\")\n",
    "    \n",
    "    # accuracy score in prediction\n",
    "    print(\"accuracy score in prediction: \")\n",
    "    print(accuracy_score(label_test, y_pred))\n",
    "    \n",
    "    \n",
    "    # model accuracy\n",
    "    print(\"model accuracy: \")\n",
    "    print(clf.score(data_test, label_test))\n",
    "    \n",
    "    \n",
    "    # cross validation score\n",
    "    print(\"cross validation score: \")\n",
    "    cross_val = cross_val_score(clf, processed_analysis_data, label, scoring='accuracy', cv=10)\n",
    "    print(cross_val)\n",
    "    print(\"cross_validation_score.mean(): \")\n",
    "    print(cross_val.mean())\n",
    "    \n",
    "    print(\"\\n\\n\")\n",
    "    \n",
    "    # confusion_matrix\n",
    "    print(\"confusion matrix: \")\n",
    "    print(confusion_matrix(label_test, y_pred))\n",
    "    \n",
    "    print(\"\\n\\n\")\n",
    "    \n",
    "    print(\"f1_score by average as macro : {}\".format(f1_score(label_test, y_pred, average='macro')))\n",
    "\n",
    "    print(\"f1_score by average as micro : {}\".format(f1_score(label_test, y_pred, average='micro')))\n",
    "\n",
    "    print(\"f1_score by average as weighted : {}\".format(f1_score(label_test, y_pred, average='weighted')))\n",
    "\n",
    "    print(\"f1_score by average as None : {}\".format(f1_score(label_test, y_pred, average=None)))\n",
    "\n",
    "    print(\"\\n\\n\")\n",
    "    \n",
    "    print(\"jaccard similarity score 1 : {}\".format(jaccard_similarity_score(label_test, y_pred)))\n",
    "\n",
    "    print(\"jaccard similarity score 2 : {}\".format(jaccard_similarity_score(label_test, y_pred, normalize=False)))\n",
    "    \n",
    "    print(\"\\n\\n\")\n",
    "        \n",
    "    if(clf_name == \"support_vector_machine\"):\n",
    "        pred = clf.decision_function(data_test)\n",
    "        \n",
    "    else: \n",
    "        pred = clf.predict_proba(data_test)\n",
    "        \n",
    "    print(\"log loss : {}\".format(log_loss(label_test, pred)))\n",
    "    \n",
    "    print(\"\\n\\n\")\n",
    "    \n",
    "    print(\"precision score with average value as micro: {}\".format(precision_score(label_test, y_pred, average=\"micro\")))\n",
    "    print(\"precision score with average value as macro: {}\".format(precision_score(label_test, y_pred, average=\"macro\")))\n",
    "    print(\"precision score with average value as weighted: {}\".format(precision_score(label_test, y_pred, average=\"weighted\")))\n",
    "    \n",
    "    print(\"\\n\\n\")\n",
    "    \n",
    "    print(\"recall score with average value as micro: {}\".format(recall_score(label_test, y_pred, average=\"micro\")))\n",
    "    print(\"recall score with average value as macro: {}\".format(recall_score(label_test, y_pred, average=\"macro\")))\n",
    "    print(\"recall score with average value as weighted: {}\".format(recall_score(label_test, y_pred, average=\"weighted\")))\n",
    "    \n",
    "    print(\"\\n\\n\")\n",
    "    \n",
    "    # classification report\n",
    "    print(\"classification report: \")\n",
    "    print(classification_report(label_test, y_pred)) \n",
    "    \n",
    "    print(\"\\n\\n\\n\")\n",
    "    \n",
    "    print(clf_name + \" classifier section end. \")\n",
    "    print(\"\\n\\n--------------------------------------------------------- \\n\\n\")\n",
    "    print(\"\\n \\n\")\n",
    "      \n",
    "    metrics.loc['jaccard', clf_name] = jaccard_similarity_score(label_test, y_pred)\n",
    "    metrics.loc['f1_score', clf_name] = f1_score(label_test, y_pred, average=None).mean()\n",
    "    metrics.loc['log_loss', clf_name] = log_loss(label_test, pred)\n",
    "    metrics.loc['accuracy', clf_name] = accuracy_score(label_test, y_pred)\n",
    "    metrics.loc['cross_val', clf_name] = cross_val_score(clf, processed_analysis_data, label, scoring='accuracy', cv=10).mean()\n",
    "    \n",
    "   "
   ]
  },
  {
   "cell_type": "markdown",
   "metadata": {},
   "source": [
    "# <font color=\"dark-yellow\">metrics in percentage</font>"
   ]
  },
  {
   "cell_type": "code",
   "execution_count": 32,
   "metadata": {
    "scrolled": true
   },
   "outputs": [
    {
     "data": {
      "text/html": [
       "<div>\n",
       "<style scoped>\n",
       "    .dataframe tbody tr th:only-of-type {\n",
       "        vertical-align: middle;\n",
       "    }\n",
       "\n",
       "    .dataframe tbody tr th {\n",
       "        vertical-align: top;\n",
       "    }\n",
       "\n",
       "    .dataframe thead th {\n",
       "        text-align: right;\n",
       "    }\n",
       "</style>\n",
       "<table border=\"1\" class=\"dataframe\">\n",
       "  <thead>\n",
       "    <tr style=\"text-align: right;\">\n",
       "      <th></th>\n",
       "      <th>K_Neighbors_Classifier</th>\n",
       "      <th>Decision_Tree_Classifier</th>\n",
       "      <th>support_vector_machine</th>\n",
       "      <th>Logistic_Regression</th>\n",
       "    </tr>\n",
       "  </thead>\n",
       "  <tbody>\n",
       "    <tr>\n",
       "      <th>jaccard</th>\n",
       "      <td>97</td>\n",
       "      <td>97</td>\n",
       "      <td>92</td>\n",
       "      <td>97</td>\n",
       "    </tr>\n",
       "    <tr>\n",
       "      <th>f1_score</th>\n",
       "      <td>95.817</td>\n",
       "      <td>95.817</td>\n",
       "      <td>89.2234</td>\n",
       "      <td>96.1924</td>\n",
       "    </tr>\n",
       "    <tr>\n",
       "      <th>log_loss</th>\n",
       "      <td>39.425</td>\n",
       "      <td>103.616</td>\n",
       "      <td>143.605</td>\n",
       "      <td>17.9523</td>\n",
       "    </tr>\n",
       "    <tr>\n",
       "      <th>accuracy</th>\n",
       "      <td>97</td>\n",
       "      <td>97</td>\n",
       "      <td>92</td>\n",
       "      <td>97</td>\n",
       "    </tr>\n",
       "    <tr>\n",
       "      <th>cross_val</th>\n",
       "      <td>94.8</td>\n",
       "      <td>97.8</td>\n",
       "      <td>87.2</td>\n",
       "      <td>95.4</td>\n",
       "    </tr>\n",
       "  </tbody>\n",
       "</table>\n",
       "</div>"
      ],
      "text/plain": [
       "          K_Neighbors_Classifier Decision_Tree_Classifier  \\\n",
       "jaccard                       97                       97   \n",
       "f1_score                  95.817                   95.817   \n",
       "log_loss                  39.425                  103.616   \n",
       "accuracy                      97                       97   \n",
       "cross_val                   94.8                     97.8   \n",
       "\n",
       "          support_vector_machine Logistic_Regression  \n",
       "jaccard                       92                  97  \n",
       "f1_score                 89.2234             96.1924  \n",
       "log_loss                 143.605             17.9523  \n",
       "accuracy                      92                  97  \n",
       "cross_val                   87.2                95.4  "
      ]
     },
     "execution_count": 32,
     "metadata": {},
     "output_type": "execute_result"
    }
   ],
   "source": [
    "metrics_in_percentage = 100*metrics \n",
    "metrics_in_percentage"
   ]
  },
  {
   "cell_type": "markdown",
   "metadata": {},
   "source": [
    "# <font color=\"orange\">Kaggle Project- </font> <font color=\"red\">data analysis</font> <font color = \"green\">on loan application dataset</font> <font color=\"black\">shown in</font> <font color=\"purple\">graph view</font>"
   ]
  },
  {
   "cell_type": "code",
   "execution_count": 33,
   "metadata": {},
   "outputs": [
    {
     "data": {
      "image/png": "[encoded data removed]",
      "text/plain": [
       "<Figure size 576x432 with 1 Axes>"
      ]
     },
     "metadata": {},
     "output_type": "display_data"
    }
   ],
   "source": [
    "metrics = metrics.convert_objects(convert_numeric=True)   \n",
    "\n",
    "metrics_in_percentage = (100*metrics)\n",
    "font = font_manager.FontProperties(family='Lucida Fax', size=12)\n",
    "#rcParams['font.family'] = 'Britannic Bold'\n",
    "fig, ax = plt.subplots(figsize = (8, 6)) \n",
    "metrics_in_percentage.plot(kind = 'barh', ax = ax, fontsize = 15) \n",
    "#plt.rcParams[\"font.family\"] = \"Monotype Corsiva\"\n",
    "\n",
    "title_font = {'fontname':'Monotype Corsiva'}\n",
    "#legend_font = {'fontname':'Impact'}\n",
    "\n",
    "plt.title(s = \"classification applied on loan application dataset\", color = \"green\", fontsize = 26, loc = \"center\", fontweight = \"bold\", **title_font)\n",
    "legend = ax.legend()\n",
    "\n",
    "\n",
    "legend = ax.legend(loc = \"upper right\", labelspacing=1.5, prop=font)\n",
    "legend\n",
    "frame = legend.get_frame()\n",
    "frame.set_facecolor(\"#EBF1DE\")\n",
    "frame.set_edgecolor('chartreuse')\n",
    "ax.margins(0.42)\n",
    "plt.savefig('classification_on_loan_application_dataset.png')\n",
    "ax.grid()"
   ]
  }
 ],
 "metadata": {
  "kernelspec": {
   "display_name": "Python 3",
   "language": "python",
   "name": "python3"
  },
  "language_info": {
   "codemirror_mode": {
    "name": "ipython",
    "version": 3
   },
   "file_extension": ".py",
   "mimetype": "text/x-python",
   "name": "python",
   "nbconvert_exporter": "python",
   "pygments_lexer": "ipython3",
   "version": "3.6.5"
  }
 },
 "nbformat": 4,
 "nbformat_minor": 2
}
